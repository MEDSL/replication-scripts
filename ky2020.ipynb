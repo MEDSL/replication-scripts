{
 "cells": [
  {
   "cell_type": "code",
   "execution_count": 53,
   "id": "genetic-wrong",
   "metadata": {},
   "outputs": [],
   "source": [
    "import pandas as pd\n",
    "import numpy as np\n",
    "import os\n",
    "import csv\n",
    "import re\n",
    "from collections import Counter\n",
    "pd.options.display.max_rows = 1500\n",
    "pd.options.display.max_columns = 30"
   ]
  },
  {
   "cell_type": "code",
   "execution_count": 54,
   "id": "enclosed-photography",
   "metadata": {
    "scrolled": false
   },
   "outputs": [],
   "source": [
    "raw=pd.read_csv('/Users/declanchin/Desktop/MEDSL/2020-precincts/precinct/KY/raw/KY2020_mostrecent.csv',low_memory=False)\n",
    "\n",
    "# fixes issues in two counties where the offices are exact duplcates (eg two separate questions both named question)\n",
    "fix_dup_list = []\n",
    "for county in raw['county'].unique():\n",
    "    c = raw[raw['county']==county]\n",
    "    cset = set(zip(c['race'],c['race.id']))\n",
    "    keys = [key[0] for key in cset]\n",
    "    cnt = Counter(keys)\n",
    "    cnt_lst=[k for k, v in cnt.items() if v > 1]\n",
    "    if len(cnt_lst)>0:\n",
    "        fix_dup_list = fix_dup_list + ([[county] + [i for i in list(cset) if i[0] in cnt_lst]])\n",
    "        \n",
    "for duplicate in fix_dup_list:\n",
    "    county = duplicate[0]\n",
    "    fix1 = duplicate[1]\n",
    "    fix2 = duplicate[2]\n",
    "    raw.loc[((raw['county']==county)&(raw['race'] == fix1[0])&(raw['race.id'] == fix1[1])), 'race'] = fix1[0] + ' - 1'\n",
    "    raw.loc[((raw['county']==county)&(raw['race'] == fix2[0])&(raw['race.id'] == fix2[1])), 'race'] = fix2[0] + ' - 2'"
   ]
  },
  {
   "cell_type": "code",
   "execution_count": 55,
   "id": "modern-myanmar",
   "metadata": {},
   "outputs": [],
   "source": [
    "crosswalk = pd.read_excel('/Users/declanchin/Desktop/MEDSL/2020-precincts/precinct/KY/ky-party-candidate-crosswalk.xlsx')\n",
    "crosswalk['candidate'] = crosswalk['candidate'].str.upper().str.replace('.','', regex=True)\n",
    "crosswalk.loc[-1] = ['MATTHEW RYAN BEST', 'Democratic Party', np.nan]"
   ]
  },
  {
   "cell_type": "code",
   "execution_count": 56,
   "id": "tropical-stationery",
   "metadata": {
    "scrolled": true
   },
   "outputs": [],
   "source": [
    "def drop_duplicates():\n",
    "    df = raw.loc[:,['race','candidates','county','precinct','type','votes','registration']]\n",
    "    df.columns = ['office','candidate','county','precinct','mode','votes','registration']\n",
    "    df['office'] = df['office'].str.upper()\n",
    "    df['county'] = df['county'].str.upper()\n",
    "    #drop duplicates and empty rows for floating counties\n",
    "    df=df[(df['mode']=='total')&(df['precinct']!='-1')]\n",
    "    counties_with_mode=[i for i in df['county'].unique() if 'Abse' in df[df['county']==i]['precinct'].unique()]\n",
    "    for i in counties_with_mode:\n",
    "        if i != \"CLAY\":\n",
    "            df = df[~((df['county']==i)&(~df['precinct'].isin(['Elec','Abse','Earl','Pres'])))]\n",
    "            df['mode'] = np.where(df['county']==i, df['precinct'], df['mode'])\n",
    "            df['precinct'] = np.where(df['county']==i, 'COUNTY FLOATING', df['precinct'])\n",
    "    df['precinct'] = np.where(((df['precinct']=='BALLOT')),'COUNTY FLOATING',df['precinct'])\n",
    "    df.loc[(df['county']=='CLAY') & (df['precinct']=='Elec'),\n",
    "          'mode'] = 'Elec'\n",
    "    df.loc[(df['county']=='CLAY') & (df['precinct']=='Abse'),\n",
    "          'mode'] = 'Abse'\n",
    "    df.loc[(df['county']=='CLAY') & (df['precinct']=='Earl'),\n",
    "          'mode'] = 'Earl'\n",
    "    df.loc[(df['county']=='CLAY') & (df['precinct']=='Pres'),\n",
    "          'mode'] = 'Pres'\n",
    "    df['mode'] = df['mode'].str.upper()\n",
    "    df = df.replace(['ELEC', 'ABSE', 'EARL','PRES'],['ELECTION DAY', 'ABSENTEE', 'EARLY','PRES'])\n",
    "    df.loc[((df['county']=='CLAY') & (df['mode']!='TOTAL')), 'precinct'] = 'COUNTY FLOATING'  \n",
    "    return df"
   ]
  },
  {
   "cell_type": "code",
   "execution_count": 57,
   "id": "exceptional-fiction",
   "metadata": {},
   "outputs": [],
   "source": [
    "def fix_candidate(x):\n",
    "    x = x.replace('.','').upper()\n",
    "    if \"/\" in x: return x.split('/')[0].strip()\n",
    "    if x =='WRITE-IN': return \"WRITEIN\"\n",
    "    if \"' \" in x: return x.replace(\"' \",'\" ').replace(\" '\",' \"')\n",
    "    if \" '\" in x: return x.replace(\"' \",'\" ').replace(\" '\",' \"')\n",
    "    if x =='KATHY (SUSIE) MILLS': return 'KATHY \"SUSIE\" MILLS'\n",
    "    if x =='JAMES E (BILL) NAPIER': return 'JAMES E \"BILL\" NAPIER'\n",
    "    else: return x"
   ]
  },
  {
   "cell_type": "code",
   "execution_count": 58,
   "id": "contemporary-thunder",
   "metadata": {},
   "outputs": [],
   "source": [
    "def get_registration(df):\n",
    "    # gets non-zero registration info for unique county/precinct pairs to concat\n",
    "    registered_voters=df.melt(id_vars = ['office','candidate','county','precinct','mode'], value_vars='registration').rename(columns={'value':'votes'}).drop(columns='variable')\n",
    "    registered_voters = registered_voters.drop_duplicates(subset = ['county','precinct'])\n",
    "    registered_voters = registered_voters[registered_voters['votes']>0]\n",
    "    registered_voters['office'] = 'REGISTERED VOTERS'\n",
    "    registered_voters['candidate'] = ''\n",
    "    return registered_voters"
   ]
  },
  {
   "cell_type": "code",
   "execution_count": 59,
   "id": "threaded-gathering",
   "metadata": {},
   "outputs": [],
   "source": [
    "# strips district from office field and adds to district. Same for circuit courts, divisions for School board\n",
    "def fix_office_district(x):\n",
    "    if (\"DISTRICT\" in x) & ('COUNCIL' not in x)& ('EDUCATION' not in x)& ('ELECTED' not in x): \n",
    "        return x.split(re.findall(r'\\d+',x)[0])[0].strip().strip(',').replace(' DISTRICT','')\n",
    "    if 'WARD' in x:\n",
    "        lst='CITY COUNCIL CITY OF HOPKINSVILLE WARD 12'.split('WARD '+ re.findall(r'\\d+', 'CITY COUNCIL CITY OF HOPKINSVILLE WARD 12')[0])\n",
    "        fixed = ' '.join([elem.strip() for elem in lst])\n",
    "        return fixed\n",
    "    if \"METRO COUNCIL\" in x: return \"METRO COUNCIL \" + re.findall(r'\\d+',x)[0]\n",
    "    if \"URBAN COUNTY COUNCIL\" in x: return \"URBAN COUNTY COUNCIL\"\n",
    "    if \"CIRCUIT\" in x: return x.split(',')[0]\n",
    "    if \"EDUCATION\" in x: return x.split('EDUCATION')[0] + 'EDUCATION'\n",
    "    else: return x"
   ]
  },
  {
   "cell_type": "code",
   "execution_count": 60,
   "id": "secondary-spice",
   "metadata": {},
   "outputs": [],
   "source": [
    "def fix_office(x):\n",
    "    if x == 'PRESIDENT AND VICE PRESIDENT OF THE UNITED STATES': return 'US PRESIDENT'\n",
    "    if x=='US REPRESENTATIVE': return 'US HOUSE'\n",
    "    if x=='STATE REPRESENTATIVE': return 'STATE HOUSE'\n",
    "    if x=='US SENATOR': return 'US SENATE'\n",
    "    if x=='STATE SENATOR': return 'STATE SENATE'\n",
    "    if \"UNEXPIRED\" in x: return x.replace('(UNEXPIRED TERM)','').strip()\n",
    "    else: return x  "
   ]
  },
  {
   "cell_type": "code",
   "execution_count": 61,
   "id": "coral-logging",
   "metadata": {},
   "outputs": [],
   "source": [
    "def fix_district(x):\n",
    "    if 'PERSONS'  in x: return ''\n",
    "    if ((\"DISTRICT\" in x)&(\"DIVISION\" in x)): return re.findall(r'\\d+',x)[0].zfill(3) + ', DIVISION ' + re.findall(r'\\d+',x)[1]\n",
    "    if \"DISTRICT\" in x: return re.findall(r'\\d+',x)[0].zfill(3)\n",
    "    if \"WARD\" in x: return 'WARD ' + re.findall(r'\\d+',x)[0]\n",
    "    if (\"COUNCIL\" in x): return re.findall(r'\\d+',x)[0].zfill(3)\n",
    "    if \"CIRCUIT\" in x: return \"CIRCUIT \" + re.findall(r'\\d+',x)[0] + ', DIVISION ' + re.findall(r'\\d+',x)[1]\n",
    "    if ((\"DIVISION\" in x)&(\"CIRCUIT\" not in x)): return 'DIVISION ' + re.findall(r'\\d+',x)[0]\n",
    "    else: return x"
   ]
  },
  {
   "cell_type": "code",
   "execution_count": 62,
   "id": "brilliant-digest",
   "metadata": {},
   "outputs": [],
   "source": [
    "def get_party_writein(df):\n",
    "    df=df.merge(crosswalk, on='candidate',how='left')\n",
    "    df['party'] = df['party'].str.upper().str.replace(' PARTY','').fillna('').str.replace('DEMOCRATIC', \"DEMOCRAT\")\n",
    "    df = df.rename(columns={'party':'party_detailed','county':'county_name'})\n",
    "    df['writein'] = np.where(df['candidate']=='WRITEIN','TRUE','FALSE')\n",
    "    return df"
   ]
  },
  {
   "cell_type": "code",
   "execution_count": 63,
   "id": "answering-thailand",
   "metadata": {},
   "outputs": [],
   "source": [
    "def get_party_simplified(x):\n",
    "    if x in ['DEMOCRAT','REPUBLICAN','NONPARTISAN','LIBERTARIAN']: return x\n",
    "    if x == '': return ''\n",
    "    else: return \"OTHER\""
   ]
  },
  {
   "cell_type": "code",
   "execution_count": 64,
   "id": "reverse-cardiff",
   "metadata": {},
   "outputs": [],
   "source": [
    "def get_special(x):\n",
    "    if \"UNEXPIRED\" in x: return 'TRUE'\n",
    "    else: return \"FALSE\""
   ]
  },
  {
   "cell_type": "code",
   "execution_count": 65,
   "id": "surprising-reading",
   "metadata": {},
   "outputs": [],
   "source": [
    "def get_dataverse(x):\n",
    "    if x =='US PRESIDENT': return 'PRESIDENT'\n",
    "    if x == 'US HOUSE': return 'HOUSE'\n",
    "    if x =='US SENATE': return 'SENATE'\n",
    "    if x in ['STATE SENATE', 'STATE HOUSE','JUDGE OF THE COURT OF APPEALS','JUSTICE OF THE SUPREME COURT',\n",
    "            'CONSTITUTIONAL AMENDMENT 1','CONSTITUTIONAL AMENDMENT 2']: \n",
    "        return 'STATE'\n",
    "    if 'CIRCUIT' in x: return 'STATE'\n",
    "    if x=='REGISTERED VOTERS': return ''\n",
    "    else: return 'LOCAL'"
   ]
  },
  {
   "cell_type": "code",
   "execution_count": 66,
   "id": "protective-rubber",
   "metadata": {},
   "outputs": [],
   "source": [
    "# all functions\n",
    "df = drop_duplicates()\n",
    "df.candidate = df.candidate.apply(fix_candidate)\n",
    "df = pd.concat([df,get_registration(df)]).drop(columns='registration').reset_index(drop=True)\n",
    "df['special'] = df.office.apply(get_special)\n",
    "districts = [i if ((any(str.isdigit(c) for c in i))&(('DISTRICT' in i)|('WARD' in i)|('COUNCIL' in i)|('DIVISION' in i))) else '' for i in df['office']]\n",
    "df['district'] = districts\n",
    "office_no_district = df.district.apply(fix_office_district)\n",
    "df['office'] = np.where(df['district']!='', office_no_district,df['office'])\n",
    "df.office = df.office.apply(fix_office)  \n",
    "df['district'] = df.district.apply(fix_district)\n",
    "df['district']= np.where(((df['office']=='US PRESIDENT')|(df['office']== 'US SENATE')|\n",
    "                         (df['office']=='CONSTITUTIONAL AMENDMENT 1')|\n",
    "                         (df['office']=='CONSTITUTIONAL AMENDMENT 2')), 'STATEWIDE',df['district'])\n",
    "#party info\n",
    "df = get_party_writein(df)\n",
    "df['party_detailed'] = np.where(((df['office'].str.contains('JUDGE'))|(df['office'].str.contains('JUSTICE'))|(df['office'].str.contains('CLERK'))),\n",
    "                               'NONPARTISAN', df['party_detailed'])\n",
    "df['party_simplified'] = df.party_detailed.apply(get_party_simplified)\n",
    "df['dataverse'] = df.office.apply(get_dataverse)"
   ]
  },
  {
   "cell_type": "code",
   "execution_count": 67,
   "id": "limiting-polls",
   "metadata": {},
   "outputs": [],
   "source": [
    "# add year, stage, state, date, office, jurisdiction,special\n",
    "df['jurisdiction_name'] = df['county_name'].str.upper()\n",
    "jurisdiction_fips = pd.read_csv('/Users/declanchin/Desktop/MEDSL/2020-precincts/help-files/jurisdiction-fips-codes.csv')\n",
    "jurisdiction_fips = jurisdiction_fips[jurisdiction_fips['state']=='Kentucky'].drop(columns='state')\n",
    "df=df.merge(jurisdiction_fips, on='jurisdiction_name', how='left')\n",
    "df['jurisdiction_fips'] = df['jurisdiction_fips'].fillna('').astype(str).str.strip('\\.0')\n",
    "county_fips=pd.read_csv('/Users/declanchin/Desktop/MEDSL/2020-precincts/help-files/county-fips-codes.csv')\n",
    "county_fips = county_fips[county_fips['state']=='Kentucky'].drop(columns='state')\n",
    "df=df.merge(county_fips, on='county_name', how='left')\n",
    "df['year']= 2020\n",
    "df['state'] = 'KENTUCKY'\n",
    "df['date']= '2020-11-03' #np.where(((df['office']=='STATE HOUSE')&(df['special']==True)), '2020-02-25','2020-11-03')\n",
    "df['stage']='GEN'\n",
    "df['magnitude']= np.where(df['office'].str.contains('CITY COMMISSIONERS'), 4, 1)\n",
    "df['magnitude']= np.where(df['office']=='REGISTERED VOTERS', 0, df['magnitude'])\n",
    "df['votes']=df['votes'].astype(int)\n",
    "df['readme_check']=np.where(df['precinct']=='COUNTY FLOATING', 'TRUE', 'FALSE')\n",
    "# state codes\n",
    "state_codes = pd.read_csv('/Users/declanchin/Desktop/MEDSL/2020-precincts/help-files/merge_on_statecodes.csv')\n",
    "state_codes = state_codes[state_codes['state']=='Kentucky']\n",
    "state_codes['state'] = state_codes['state'].str.upper()\n",
    "df=df.merge(state_codes, on='state')\n",
    "df=df.fillna('')\n",
    "#fixes\n",
    "df['office']=df['office'].str.strip()\n",
    "#corrections\n",
    "df['precinct'] = df['precinct'].replace('Pres','COUNTY FLOATING')\n",
    "df['office'] = np.where(((df['office']=='CIRCUIT JUDGE')&((df['district']==\"\"))),\n",
    "                       'CIRCUIT JUDGE FAMILY COURT', df['office'])\n",
    "df['district'] = np.where(((df['office']=='CIRCUIT JUDGE FAMILY COURT')&((df['district']==\"\"))),\n",
    "                         'CIRCUIT 30, DIVISION 3',df['district'] )"
   ]
  },
  {
   "cell_type": "code",
   "execution_count": 68,
   "id": "bound-hypothesis",
   "metadata": {},
   "outputs": [],
   "source": [
    "# two candidates withdrew in the same county floating precinct\n",
    "df.loc[(df['office']=='WOODLAND HILLS COMMISSIONER WOODLAND HILLS')&\n",
    "       (df['candidate']=='WITHDRAWN'),'candidate'] = ['WITHDRAWN - 1', 'WITHDRAWN - 2']"
   ]
  },
  {
   "cell_type": "code",
   "execution_count": 69,
   "id": "vocational-simon",
   "metadata": {},
   "outputs": [],
   "source": [
    "df = df.loc[:,['precinct', 'office', 'party_detailed', 'party_simplified', 'mode',\n",
    "       'votes', 'county_name', 'county_fips', 'jurisdiction_name',\n",
    "       'jurisdiction_fips', 'candidate', 'district', 'magnitude', 'dataverse',\n",
    "       'year', 'stage', 'state', 'special', 'writein', 'state_po',\n",
    "       'state_fips', 'state_cen', 'state_ic', 'date', 'readme_check']]"
   ]
  },
  {
   "cell_type": "code",
   "execution_count": 70,
   "id": "intensive-lighting",
   "metadata": {},
   "outputs": [],
   "source": [
    "df.to_csv('/Users/declanchin/Desktop/MEDSL/2020-precincts/precinct/KY/2020-ky-precinct-general.csv', index=False,quoting=csv.QUOTE_NONNUMERIC)"
   ]
  },
  {
   "cell_type": "markdown",
   "id": "written-bread",
   "metadata": {},
   "source": [
    "### NOTES\n",
    "- only election day voting? \n",
    "- missing three special elections\n",
    "- \"-1\" precincts look like vote totals across either precincts or voting modes\n",
    "- ANSWER: readme_check for these counties. They centralized their voting process by having voters return ballots to the county.\n",
    "- leaving in pres precinct for now\n",
    "- clay has mode and precinct"
   ]
  },
  {
   "cell_type": "code",
   "execution_count": 71,
   "id": "incoming-royalty",
   "metadata": {},
   "outputs": [
    {
     "name": "stdout",
     "output_type": "stream",
     "text": [
      "[NbConvertApp] Converting notebook KY_cleaning.ipynb to script\n",
      "[NbConvertApp] Writing 11491 bytes to KY_cleaning.py\n"
     ]
    }
   ],
   "source": [
    "# !jupyter nbconvert --to script 'KY_cleaning.ipynb'"
   ]
  },
  {
   "cell_type": "code",
   "execution_count": null,
   "id": "periodic-parade",
   "metadata": {},
   "outputs": [],
   "source": []
  }
 ],
 "metadata": {
  "kernelspec": {
   "display_name": "Python 3",
   "language": "python",
   "name": "python3"
  },
  "language_info": {
   "codemirror_mode": {
    "name": "ipython",
    "version": 3
   },
   "file_extension": ".py",
   "mimetype": "text/x-python",
   "name": "python",
   "nbconvert_exporter": "python",
   "pygments_lexer": "ipython3",
   "version": "3.9.2"
  }
 },
 "nbformat": 4,
 "nbformat_minor": 5
}
